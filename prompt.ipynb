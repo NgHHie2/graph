{
 "cells": [
  {
   "cell_type": "code",
   "execution_count": 1,
   "id": "092c7adf",
   "metadata": {},
   "outputs": [
    {
     "name": "stdout",
     "output_type": "stream",
     "text": [
      "hêlo\n"
     ]
    }
   ],
   "source": [
    "print('hêlo')"
   ]
  },
  {
   "cell_type": "code",
   "execution_count": 2,
   "id": "e20d7be9",
   "metadata": {},
   "outputs": [],
   "source": [
    "import requests\n",
    "import json\n",
    "import textwrap"
   ]
  },
  {
   "cell_type": "code",
   "execution_count": 3,
   "id": "b6133f84",
   "metadata": {},
   "outputs": [],
   "source": [
    "OLLAMA_URL = \"http://localhost:11434/api/generate\"\n",
    "payload = {\n",
    "    \"model\": \"mistral\",\n",
    "    \"prompt\": \"Hãy giải thích AI là gì một cách đơn giản.\",\n",
    "    \"stream\": True\n",
    "}"
   ]
  },
  {
   "cell_type": "code",
   "execution_count": 19,
   "id": "2a9ed2db",
   "metadata": {},
   "outputs": [],
   "source": [
    "line_width = 10100  \n",
    "current_line_length = 0"
   ]
  },
  {
   "cell_type": "code",
   "execution_count": 18,
   "id": "b69f9176",
   "metadata": {},
   "outputs": [
    {
     "name": "stdout",
     "output_type": "stream",
     "text": [
      " AI (Artificial Intelligence) là một loại công nghệ máy tính dành cho việc sử dụ\n",
      "ng các phương pháp tự động hóa và quyết định tốt để giải quyết nhiều loại công v\n",
      "iệc thay vì người láng giềng hoặc có khả năng mang tính con người trong việc giả\n",
      "i quyết các vấn đề. AI cho phép máy tính có thể học, nhận thức và gợi ý, giúp ti\n",
      "ện lợi và tăng hiệu quả trong một số lĩnh vực như máy tính xác thực, robotics, x\n",
      "ử lý ngôn ngữ, vận động cơ điện tử và truyền thông."
     ]
    }
   ],
   "source": [
    "# Gửi request stream\n",
    "response = requests.post(OLLAMA_URL, json=payload, stream=True)\n",
    "\n",
    "# Xử lý từng chunk JSON\n",
    "for line in response.iter_lines():\n",
    "    if line:\n",
    "        data = json.loads(line.decode('utf-8'))\n",
    "        chunk = data.get(\"response\", \"\")\n",
    "        \n",
    "        for char in chunk:\n",
    "            print(char, end=\"\", flush=True)\n",
    "            current_line_length += 1\n",
    "            if current_line_length >= line_width:\n",
    "                print()  # xuống dòng\n",
    "                current_line_length = 0\n"
   ]
  },
  {
   "cell_type": "code",
   "execution_count": 17,
   "id": "5972c737",
   "metadata": {},
   "outputs": [],
   "source": [
    "from langchain_community.llms import Ollama\n",
    "from langchain.prompts import PromptTemplate\n",
    "from langchain.chains import LLMChain\n",
    "import json"
   ]
  },
  {
   "cell_type": "code",
   "execution_count": 18,
   "id": "8c4212bf",
   "metadata": {},
   "outputs": [],
   "source": [
    "llm = Ollama(base_url=\"http://localhost:11434\", model=\"mistral\")"
   ]
  },
  {
   "cell_type": "code",
   "execution_count": null,
   "id": "49442c14",
   "metadata": {},
   "outputs": [],
   "source": [
    "#cần prompt thật kĩ, ví dụ output đầy đủđủ"
   ]
  },
  {
   "cell_type": "code",
   "execution_count": 19,
   "id": "68e605b3",
   "metadata": {},
   "outputs": [],
   "source": [
    "template = \"\"\"\n",
    "Hãy trích xuất các thực thể (entities) và quan hệ (relations) từ đoạn văn sau để xây đồ thị tri thức. Trả về kết quả JSON dạng:\n",
    "\n",
    "{{\n",
    "  \"nodes\": [{{\"id\": \"<Entity>\", \"type\": \"<Type>\"}}],\n",
    "  \"edges\": [{{\"source\": \"<Entity1>\", \"target\": \"<Entity2>\", \"relation\": \"<Relation>\"}}]\n",
    "}}\n",
    "\n",
    "Đoạn văn:\n",
    "{paragraph}\n",
    "\"\"\"\n",
    "\n",
    "prompt = PromptTemplate(input_variables=[\"paragraph\"], template=template)\n",
    "\n",
    "chain = LLMChain(llm=llm, prompt=prompt)\n",
    "\n",
    "paragraph = \"\"\"Trí tuệ nhân tạo (AI) là một lĩnh vực của khoa học máy tính nghiên cứu về việc tạo ra các hệ thống có khả năng thực hiện những nhiệm vụ mà trước đây chỉ con người mới làm được. Các ứng dụng của AI rất đa dạng, từ xe tự lái, nhận diện khuôn mặt, đến trợ lý ảo như Siri và ChatGPT. AI bao gồm nhiều lĩnh vực con, như học máy (machine learning), học sâu (deep learning), và xử lý ngôn ngữ tự nhiên (NLP).\"\"\"\n",
    "\n",
    "kg_json = chain.invoke({\"paragraph\": paragraph})\n"
   ]
  },
  {
   "cell_type": "code",
   "execution_count": 20,
   "id": "ab85879d",
   "metadata": {},
   "outputs": [
    {
     "name": "stdout",
     "output_type": "stream",
     "text": [
      "{\n",
      "  \"nodes\": [\n",
      "    {\n",
      "      \"id\": \"AI\",\n",
      "      \"type\": \"Lĩnh vực\"\n",
      "    },\n",
      "    {\n",
      "      \"id\": \"Xe tự lái\",\n",
      "      \"type\": \"Ứng dụng\"\n",
      "    },\n",
      "    {\n",
      "      \"id\": \"Nhận diện khuôn mặt\",\n",
      "      \"type\": \"Ứng dụng\"\n",
      "    },\n",
      "    {\n",
      "      \"id\": \"Siri\",\n",
      "      \"type\": \"Trợ lý ảo\"\n",
      "    },\n",
      "    {\n",
      "      \"id\": \"ChatGPT\",\n",
      "      \"type\": \"Trợ lý ảo\"\n",
      "    },\n",
      "    {\n",
      "      \"id\": \"Học máy\",\n",
      "      \"type\": \"Lĩnh vực con của AI\"\n",
      "    },\n",
      "    {\n",
      "      \"id\": \"Học sâu\",\n",
      "      \"type\": \"Lĩnh vực con của AI\"\n",
      "    },\n",
      "    {\n",
      "      \"id\": \"Xử lý ngôn ngữ tự nhiên\",\n",
      "      \"type\": \"Lĩnh vực con của AI\"\n",
      "    }\n",
      "  ],\n",
      "  \"edges\": [\n",
      "    {\n",
      "      \"source\": \"AI\",\n",
      "      \"target\": \"Xe tự lái\",\n",
      "      \"relation\": \"Lĩnh vực con\"\n",
      "    },\n",
      "    {\n",
      "      \"source\": \"AI\",\n",
      "      \"target\": \"Nhận diện khuôn mặt\",\n",
      "      \"relation\": \"Lĩnh vực con\"\n",
      "    },\n",
      "    {\n",
      "      \"source\": \"AI\",\n",
      "      \"target\": \"Siri\",\n",
      "      \"relation\": \"Lĩnh vực con\"\n",
      "    },\n",
      "    {\n",
      "      \"source\": \"AI\",\n",
      "      \"target\": \"ChatGPT\",\n",
      "      \"relation\": \"Lĩnh vực con\"\n",
      "    },\n",
      "    {\n",
      "      \"source\": \"AI\",\n",
      "      \"target\": \"Học máy\",\n",
      "      \"relation\": \"Lĩnh vực con\"\n",
      "    },\n",
      "    {\n",
      "      \"source\": \"AI\",\n",
      "      \"target\": \"Học sâu\",\n",
      "      \"relation\": \"Lĩnh vực con\"\n",
      "    },\n",
      "    {\n",
      "      \"source\": \"AI\",\n",
      "      \"target\": \"Xử lý ngôn ngữ tự nhiên\",\n",
      "      \"relation\": \"Lĩnh vực con\"\n",
      "    }\n",
      "  ]\n",
      "}\n"
     ]
    }
   ],
   "source": [
    "kg = json.loads(kg_json[\"text\"])\n",
    "print(json.dumps(kg, indent=2, ensure_ascii=False))\n"
   ]
  },
  {
   "cell_type": "code",
   "execution_count": 21,
   "id": "dbf95c0b",
   "metadata": {},
   "outputs": [
    {
     "data": {
      "image/png": "[encoded data removed]",
      "text/plain": [
       "<Figure size 640x480 with 1 Axes>"
      ]
     },
     "metadata": {},
     "output_type": "display_data"
    }
   ],
   "source": [
    "import networkx as nx\n",
    "import matplotlib.pyplot as plt\n",
    "\n",
    "G = nx.DiGraph()\n",
    "\n",
    "# Add nodes\n",
    "for node in kg[\"nodes\"]:\n",
    "    G.add_node(node[\"id\"], type=node[\"type\"])\n",
    "\n",
    "# Add edges\n",
    "for edge in kg[\"edges\"]:\n",
    "    G.add_edge(edge[\"source\"], edge[\"target\"], label=edge[\"relation\"])\n",
    "\n",
    "# Draw graph\n",
    "pos = nx.spring_layout(G, seed=42)\n",
    "nx.draw(G, pos, with_labels=True, node_color=\"skyblue\", node_size=2000, font_size=10)\n",
    "edge_labels = nx.get_edge_attributes(G, \"label\")\n",
    "nx.draw_networkx_edge_labels(G, pos, edge_labels=edge_labels, font_color=\"red\")\n",
    "plt.show()\n"
   ]
  },
  {
   "cell_type": "code",
   "execution_count": 23,
   "id": "7db31b63",
   "metadata": {},
   "outputs": [],
   "source": [
    "with open(\"knowledge_graph.json\", \"w\", encoding=\"utf-8\") as f:\n",
    "    json.dump(kg, f, ensure_ascii=False, indent=2)"
   ]
  }
 ],
 "metadata": {
  "kernelspec": {
   "display_name": "Python 3",
   "language": "python",
   "name": "python3"
  },
  "language_info": {
   "codemirror_mode": {
    "name": "ipython",
    "version": 3
   },
   "file_extension": ".py",
   "mimetype": "text/x-python",
   "name": "python",
   "nbconvert_exporter": "python",
   "pygments_lexer": "ipython3",
   "version": "3.13.5"
  }
 },
 "nbformat": 4,
 "nbformat_minor": 5
}
